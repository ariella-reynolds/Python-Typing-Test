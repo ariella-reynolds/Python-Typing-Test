{
  "nbformat": 4,
  "nbformat_minor": 0,
  "metadata": {
    "colab": {
      "provenance": [],
      "toc_visible": true,
      "authorship_tag": "ABX9TyM87FPMKcH6PB+NjZQnTvSJ",
      "include_colab_link": true
    },
    "kernelspec": {
      "name": "python3",
      "display_name": "Python 3"
    },
    "language_info": {
      "name": "python"
    }
  },
  "cells": [
    {
      "cell_type": "markdown",
      "metadata": {
        "id": "view-in-github",
        "colab_type": "text"
      },
      "source": [
        "<a href=\"https://colab.research.google.com/github/ariella-reynolds/Python-Typing-Test/blob/main/Python_Typing_Test.ipynb\" target=\"_parent\"><img src=\"https://colab.research.google.com/assets/colab-badge.svg\" alt=\"Open In Colab\"/></a>"
      ]
    },
    {
      "cell_type": "markdown",
      "source": [
        "# Importing Libraries\n",
        "(Driver = Ariella; Observer = Tenzin)"
      ],
      "metadata": {
        "id": "pVTI3sHLKHve"
      }
    },
    {
      "cell_type": "code",
      "execution_count": 11,
      "metadata": {
        "colab": {
          "base_uri": "https://localhost:8080/"
        },
        "id": "vLZsEi0bpFCs",
        "outputId": "c2c987c9-b94d-4e67-f476-e93a07fc03b3"
      },
      "outputs": [
        {
          "output_type": "stream",
          "name": "stdout",
          "text": [
            "pygame 2.6.1 (SDL 2.28.4, Python 3.11.12)\n",
            "Hello from the pygame community. https://www.pygame.org/contribute.html\n"
          ]
        }
      ],
      "source": [
        "import numpy as np\n",
        "import tkinter as tk\n",
        "from tkinter import ttk\n",
        "import pygame\n",
        "import json\n",
        "import requests\n",
        "import math\n",
        "import threading\n",
        "import os\n",
        "import random\n",
        "import time\n",
        "from collections import defaultdict, Counter\n",
        "import matplotlib.pyplot as plt\n",
        "from scipy.io import wavfile\n",
        "from IPython.display import Audio, display"
      ]
    },
    {
      "cell_type": "markdown",
      "source": [
        "# Setting Up Test (Initialization)\n",
        "(D = Ariella; O = Tenzin)"
      ],
      "metadata": {
        "id": "HRFWgX4lIeQK"
      }
    },
    {
      "cell_type": "code",
      "source": [
        "pygame.mixer.init() # initializes pygame mixer, which creates sound effects within typing test\n",
        "key_sound = pygame.mixer.Sound('type.wav') # loads file that provides sound effects (key tapping sounds as user types)\n",
        "start_time = None # tracks elapsed time (starts at 0)\n",
        "char_position = 0 # tracks position of character within string of text (starts at 0)\n",
        "errors = 0 # tracks number of mistakes made by user (starts at 0)\n",
        "wpm_tracker = [] # tracks words per minute values as they change throughout a given test\n",
        "character_mistype = defaultdict(int) # tracks number of times user incorrectly types a particular character\n",
        "word_counter = Counter() # tracks number of times a particular word emerges during the test\n",
        "total_char = 0 # tracks total number of characters encountered during a test (starts at 0)\n"
      ],
      "metadata": {
        "id": "zFe9RWuWIkKk"
      },
      "execution_count": 12,
      "outputs": []
    },
    {
      "cell_type": "markdown",
      "source": [
        "# Loading Text\n",
        "(D = Ariella; O = Tenzin)"
      ],
      "metadata": {
        "id": "kSQfdkejQDhz"
      }
    },
    {
      "cell_type": "code",
      "source": [
        "API_URL = \"https://quoteapi.pythonanywhere.com/\" # test retrieves quotations from this site\n",
        "def retrieve_quotation(): # function retrieves quotation\n",
        "  try:\n",
        "    quotation = requests.get(API_URL) # requests quotation from our chosen API\n",
        "    if quotation.ok: # if quotation can be retrieved\n",
        "      text = quotation.json()['content'] # specifically transfers quotation from API to Python; JSON string is converted into Python object\n",
        "      for word in text.split(): # isolates each word in the text\n",
        "        word_counter[word.lower()] += 1 # every time a particular word appears, a word counter is updated to keep track of how many times that word has appeared during the test; also makes sure each word is lowercase\n",
        "      return text\n",
        "  except: # if quotation cannot be retrieved\n",
        "    fallback = random.choice([\"We hope you're enjoying our typing test!\",\"Feel free to share this test with your friends to see whose typing reigns supreme!\"]) # example sentences that user can type if quotations do not load\n",
        "    for word in fallback.split(): # isolates each word in the text\n",
        "      word_counter[word.lower()] += 1 # every time a particular word appears, a word counter is updated to keep track of how many times that word has appeared during the test; also makes sure each word is lowercase\n",
        "    return fallback"
      ],
      "metadata": {
        "id": "jio42RoXQaIY"
      },
      "execution_count": null,
      "outputs": []
    },
    {
      "cell_type": "markdown",
      "source": [
        "# Establishing Proximity of Letters (Relative to Each Other)\n",
        "(D = Ariella; O = Tenzin)"
      ],
      "metadata": {
        "id": "AQLmAzlDo0A2"
      }
    },
    {
      "cell_type": "code",
      "source": [
        "keyboard_proximity = { # two letters were considered close to each other -- i.e., in near proximity -- when they were adjacent to each other, whether horizontally, vertically, or diagonally\n",
        "    'a':['q','w','s','z'],'s':['a','w','e','d','x','z'],'d':['s','e','r','f','c','x'],'f':['d','r','t','g','v','c'],'g':['f','t','y','h','b','v'],'h':['g','y','u','j','n','b'],'j':['h','u','i','k','m','n'],'k':['j','i','o','l','m'],'l':['k','o','p'],'q':['w','a'],'w':['q','e','s','a'],'e':['w','r','d','s'],'r':['e','t','f','d'],'t':['r','y','g','f'],'y':['t','u','h','g'],'u':['y','i','j','h'],'i':['u','o','k','j'],'o':['i','p','l','k'],'p':['o','l'],'z':['a','s','x'],'x':['z','s','d','c'],'c':['x','d','f','v'],'v':['c','f','g','b'],'b':['v','g','h','n'],'n':['b','h','j','m'],'m':['n','j','k']\n",
        "}"
      ],
      "metadata": {
        "id": "JQPP8Tcepm3y"
      },
      "execution_count": 3,
      "outputs": []
    },
    {
      "cell_type": "markdown",
      "source": [
        "# Constructing GUI\n",
        "(D = Ariella; O = Tenzin)"
      ],
      "metadata": {
        "id": "EKjPvYXAQ-QE"
      }
    },
    {
      "cell_type": "code",
      "source": [
        "class PythonTypingTestApp: # defines class of GUI\n",
        "  def __init__(self,root): # initializes new objects within the class\n",
        "    self.root = root # sets up and saves main window of typing test\n",
        "    self.root.title(\"Python Typing Test\") # creates title of typing test\n",
        "    self.root.geometry('900x500') # specifies size of window\n",
        "\n",
        "    self.setup_widgets() # places the elements of our GUI within the test (detailed in next section of the code)\n",
        "    self.reset_test() # clears all previous data before (re)starting test"
      ],
      "metadata": {
        "id": "yZ2Sv8x7nCdE"
      },
      "execution_count": null,
      "outputs": []
    },
    {
      "cell_type": "markdown",
      "source": [
        "# Adding Specific Features to GUI\n",
        "(D = Ariella; O = Tenzin)"
      ],
      "metadata": {
        "id": "QroX_1-NFnZQ"
      }
    },
    {
      "cell_type": "code",
      "source": [
        "def add_features(self): # adds different elements to typing test\n",
        "  self.difficulty = tk.StringVar(value = \"medium\") # stores difficulty level, with medium difficulty level as default\n",
        "  ttk.Label(self.root, text = \"Difficulty:\").pack() # labels difficulty level selection window (\"Difficulty:\")\n",
        "  ttk.Combobox(self.root, textvariable = self.difficulty, values = [\"easy\",\"medium\",\"hard\"]).pack() # allows user to select difficulty (either \"easy,\" \"medium,\" or \"hard\") through a dropdown option\n",
        "\n",
        "  self.display_text = tk.Text(self.root, height = 4, font=('Times New Roman',18)) # displays text for user to type\n",
        "  self.display_text.pack(fill = 'x') # displayed horizontally for readability\n",
        "  self.display_text.config(state = 'disabled') # read-only display\n",
        "\n",
        "  self.input_var = tk.StringVar() # stores text as user types\n",
        "  self.entry = tk.Entry(self.root, textvariable = self.input_var, font=('Times New Roman',18)) # provides box in which user can type; user will type in same font as display text\n",
        "  self.entry.pack(fill = 'x') # displayed horizontally (text should be written from left to right)\n",
        "  self.entry.bind('<KeyRelease>', self.on_key_press) # checks which key is pressed, which allows program to determine accuracy of typed text as compared to provided text\n",
        "\n",
        "  self.progress = ttk.Progressbar(self.root, maximum = 100) # creates progress bar, with 100% as maximum value\n",
        "  self.progress.pack(fill = 'x') # displayed horizontally (progress bars are generally horizontal)\n",
        "\n",
        "  self.restart_btn = ttk.Button(self.root, text = \"Restart Test\", command = self.reset_test) # user can restart typing test by pressing \"Restart Test\" button"
      ],
      "metadata": {
        "id": "Z10crWqSG0DF"
      },
      "execution_count": 7,
      "outputs": []
    },
    {
      "cell_type": "markdown",
      "source": [
        "# Resetting Typing Test\n",
        "(D = Ariella; O = Tenzin)"
      ],
      "metadata": {
        "id": "Eyxio5htujSe"
      }
    },
    {
      "cell_type": "code",
      "source": [
        "def reset_test (self): # clears prior attempt and creates fresh test for user after restarting\n",
        "  global start_time, char_position, errors, total_char # makes sure these variables can be accessed within this function, even though they are created outside the function\n",
        "  self.test = retrieve_quotation() # calls function that retrieves quotation, which gives users a new quotation to type\n",
        "  self.entry.delete(0, 'end') # clears entry box\n",
        "  self.display_text.config(state = 'normal') # allows display to be edited (in this case, by updating it to create a new test)\n",
        "  self.display_text.delete('1.0','end') # clears text from previous test\n",
        "  self.display_text.insert('1.0',self.text) # places new text into text display window\n",
        "  self.display_text.config(state = 'disabled') # switches display back to read-only format\n",
        "  start_time = None # resets elapsed time to 0\n",
        "  char_position = 0 # resets position of character within string of text to 0\n",
        "  errors = 0 # resets number of mistakes made by user to 0\n",
        "  total_char = len(self.text) # tracks total number of characters encountered during new test\n",
        "  self.progress['value'] = 0 # resets progress bar to 0%\n",
        "  self.input_var.set(\"\") # clears \"StringVar\" variable so that no text is stored from the previous test and text from the new test can be stored instead"
      ],
      "metadata": {
        "id": "WHnBPyNJu28c"
      },
      "execution_count": 9,
      "outputs": []
    },
    {
      "cell_type": "markdown",
      "source": [
        "# Indicating What Happens When a User Presses a Key\n",
        "(D = Ariella; O = Tenzin)"
      ],
      "metadata": {
        "id": "Wa0-6Fzo_kh3"
      }
    },
    {
      "cell_type": "code",
      "source": [
        "def on_key_press(self, event): # checks which key is pressed\n",
        "  global start_time, char_position, errors, total_char # makes sure these variables can be accessed within this function, even though they are created outside the function\n",
        "\n",
        "  if not start_time: # if timer has not started yet\n",
        "    start_time = time.time() # starts timer once user first presses key"
      ],
      "metadata": {
        "id": "HVmwYCgFAOSj"
      },
      "execution_count": null,
      "outputs": []
    }
  ]
}